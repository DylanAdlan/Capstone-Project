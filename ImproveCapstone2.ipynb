{
  "nbformat": 4,
  "nbformat_minor": 0,
  "metadata": {
    "colab": {
      "provenance": [],
      "collapsed_sections": [
        "evbGeOdcv22J"
      ],
      "authorship_tag": "ABX9TyPJe4FnbEGF4nzwDpgSttau",
      "include_colab_link": true
    },
    "kernelspec": {
      "name": "python3",
      "display_name": "Python 3"
    },
    "language_info": {
      "name": "python"
    }
  },
  "cells": [
    {
      "cell_type": "markdown",
      "metadata": {
        "id": "view-in-github",
        "colab_type": "text"
      },
      "source": [
        "<a href=\"https://colab.research.google.com/github/DylanAdlan/Capstone-Project/blob/main/ImproveCapstone2.ipynb\" target=\"_parent\"><img src=\"https://colab.research.google.com/assets/colab-badge.svg\" alt=\"Open In Colab\"/></a>"
      ]
    },
    {
      "cell_type": "markdown",
      "source": [
        "# Data Explaination"
      ],
      "metadata": {
        "id": "evbGeOdcv22J"
      }
    },
    {
      "cell_type": "markdown",
      "source": [
        "**Transmission**\n",
        "\n",
        "A = Automatic\n",
        "\n",
        "AM = Automated manual\n",
        "\n",
        "AS = Automatic with select shift\n",
        "\n",
        "AV = Continuously variable\n",
        "\n",
        "M = Manual\n",
        "\n",
        "3 - 10 = Number of gears\n",
        "\n",
        "**Fuel Type**\n",
        "\n",
        "X = Regular gasoline\n",
        "\n",
        "Z = Premium gasoline\n",
        "\n",
        "D = Diesel\n",
        "\n",
        "E = Ethanol (E85)\n",
        "\n",
        "N = Natural Gas"
      ],
      "metadata": {
        "id": "HonzpVF_vizo"
      }
    },
    {
      "cell_type": "markdown",
      "source": [
        "# Problem Statement\n"
      ],
      "metadata": {
        "id": "z2mmZll7tuUm"
      }
    },
    {
      "cell_type": "markdown",
      "source": [
        "\n",
        "\n",
        "1.   What are the most significant factors that influence fuel efficiency in vehicles?\n",
        "\n",
        "2. What are the most significant factors that influence fuel consumption in vehicles?\n",
        "\n",
        "3. What are the most significant factors that influence CO2 emissions in vehicles?\n",
        "\n",
        "4.   How those factors can be optimized to reduce fuel consumption & minimize environmental impact?\n",
        "\n"
      ],
      "metadata": {
        "id": "t7AZ8pCUszsr"
      }
    },
    {
      "cell_type": "markdown",
      "source": [
        "# Hypothesis\n"
      ],
      "metadata": {
        "id": "gn8QDPjWuAzu"
      }
    },
    {
      "cell_type": "markdown",
      "source": [
        "\n",
        "\n",
        "1.   **Engine Size** -> The larger engine size = more power but the lower fuel efficiency\n",
        "\n",
        "2.   **Cylinders(L)** -> The more cylinders = more power but lower fuel efficency\n",
        "\n",
        "3. **Smog Rating** -> The higher rating = cleaner emissions, better for the environment\n",
        "\n",
        "4. **CO2** -> The lower Rating = fewer emissions, better for the environment\n",
        "\n",
        "5. Fuel Consumption -> The lower fuel consumption = more efficient (the fuel)"
      ],
      "metadata": {
        "id": "ooidxJHouS1H"
      }
    },
    {
      "cell_type": "markdown",
      "source": [
        "# Objectives"
      ],
      "metadata": {
        "id": "Nc6QZgIzwAyb"
      }
    },
    {
      "cell_type": "markdown",
      "source": [
        "\n",
        "\n",
        "1.   To find factors the influence fuel efficiency, fuel consumption, and CO2 emissions\n",
        "2.   To find whether fuel consumption have relation with fuel efficiency\n",
        "\n"
      ],
      "metadata": {
        "id": "jo4uBCG-wGNZ"
      }
    },
    {
      "cell_type": "markdown",
      "source": [
        "# Step 1: Data Collection"
      ],
      "metadata": {
        "id": "HBRvEsOgx4VW"
      }
    },
    {
      "cell_type": "code",
      "execution_count": null,
      "metadata": {
        "id": "I8QSmtQwkncB"
      },
      "outputs": [],
      "source": [
        "# import all the libraries\n",
        "import numpy as np\n",
        "import pandas as pd\n",
        "import matplotlib.pyplot as plt\n"
      ]
    },
    {
      "cell_type": "markdown",
      "source": [
        "# Step 2: Data Cleaning"
      ],
      "metadata": {
        "id": "jWsceUvAydOe"
      }
    },
    {
      "cell_type": "code",
      "source": [
        "lines = open('UnemployedYouth.csv', 'r').readlines() #to get all the lines of the file"
      ],
      "metadata": {
        "id": "n029iycsk5LI"
      },
      "execution_count": null,
      "outputs": []
    },
    {
      "cell_type": "code",
      "source": [
        "lines[1] # display for line index 1"
      ],
      "metadata": {
        "colab": {
          "base_uri": "https://localhost:8080/",
          "height": 36
        },
        "id": "sb-XYUUppLbm",
        "outputId": "0ef8c185-833f-4d4b-f838-38490fbd0408"
      },
      "execution_count": null,
      "outputs": [
        {
          "output_type": "execute_result",
          "data": {
            "text/plain": [
              "'2016-01-01,283.6,10.7,402.8,6.9\\n'"
            ],
            "application/vnd.google.colaboratory.intrinsic+json": {
              "type": "string"
            }
          },
          "metadata": {},
          "execution_count": 19
        }
      ]
    },
    {
      "cell_type": "code",
      "source": [
        "len(lines) # number of rows"
      ],
      "metadata": {
        "colab": {
          "base_uri": "https://localhost:8080/"
        },
        "id": "cAv9_PcNpfxN",
        "outputId": "f44ebd61-cdd5-4bd8-a6d6-3625988e9344"
      },
      "execution_count": null,
      "outputs": [
        {
          "output_type": "execute_result",
          "data": {
            "text/plain": [
              "103"
            ]
          },
          "metadata": {},
          "execution_count": 20
        }
      ]
    },
    {
      "cell_type": "code",
      "source": [
        "unemployment = np.load('UnemployedYouth.csv')"
      ],
      "metadata": {
        "colab": {
          "base_uri": "https://localhost:8080/",
          "height": 297
        },
        "id": "zIYnhusrpocc",
        "outputId": "db1c8b98-42b5-4f51-ac9a-88eee5b9a515"
      },
      "execution_count": null,
      "outputs": [
        {
          "output_type": "error",
          "ename": "ValueError",
          "evalue": "Cannot load file containing pickled data when allow_pickle=False",
          "traceback": [
            "\u001b[0;31m---------------------------------------------------------------------------\u001b[0m",
            "\u001b[0;31mValueError\u001b[0m                                Traceback (most recent call last)",
            "\u001b[0;32m<ipython-input-23-0f3f29fc114d>\u001b[0m in \u001b[0;36m<cell line: 1>\u001b[0;34m()\u001b[0m\n\u001b[0;32m----> 1\u001b[0;31m \u001b[0munemployment\u001b[0m \u001b[0;34m=\u001b[0m \u001b[0mnp\u001b[0m\u001b[0;34m.\u001b[0m\u001b[0mload\u001b[0m\u001b[0;34m(\u001b[0m\u001b[0;34m'UnemployedYouth.csv'\u001b[0m\u001b[0;34m)\u001b[0m\u001b[0;34m\u001b[0m\u001b[0;34m\u001b[0m\u001b[0m\n\u001b[0m",
            "\u001b[0;32m/usr/local/lib/python3.10/dist-packages/numpy/lib/npyio.py\u001b[0m in \u001b[0;36mload\u001b[0;34m(file, mmap_mode, allow_pickle, fix_imports, encoding, max_header_size)\u001b[0m\n\u001b[1;32m    460\u001b[0m             \u001b[0;31m# Try a pickle\u001b[0m\u001b[0;34m\u001b[0m\u001b[0;34m\u001b[0m\u001b[0m\n\u001b[1;32m    461\u001b[0m             \u001b[0;32mif\u001b[0m \u001b[0;32mnot\u001b[0m \u001b[0mallow_pickle\u001b[0m\u001b[0;34m:\u001b[0m\u001b[0;34m\u001b[0m\u001b[0;34m\u001b[0m\u001b[0m\n\u001b[0;32m--> 462\u001b[0;31m                 raise ValueError(\"Cannot load file containing pickled data \"\n\u001b[0m\u001b[1;32m    463\u001b[0m                                  \"when allow_pickle=False\")\n\u001b[1;32m    464\u001b[0m             \u001b[0;32mtry\u001b[0m\u001b[0;34m:\u001b[0m\u001b[0;34m\u001b[0m\u001b[0;34m\u001b[0m\u001b[0m\n",
            "\u001b[0;31mValueError\u001b[0m: Cannot load file containing pickled data when allow_pickle=False"
          ]
        }
      ]
    },
    {
      "cell_type": "code",
      "source": [],
      "metadata": {
        "id": "ltzvbWLLqTu2"
      },
      "execution_count": null,
      "outputs": []
    }
  ]
}